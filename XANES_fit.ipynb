{
 "cells": [
  {
   "cell_type": "code",
   "execution_count": 1,
   "metadata": {},
   "outputs": [],
   "source": [
    "import numpy as np\n",
    "from matplotlib import pyplot as plt\n",
    "from scipy.interpolate import interp1d\n",
    "from ipywidgets import interact\n",
    "from scipy.optimize import curve_fit\n",
    "def interpolation(f, x):\n",
    "    g = interp1d(f[:, 0], f[:, 1])\n",
    "    return g(x.tolist())\n",
    "\n",
    "# define fitting range\n",
    "\n",
    "e_fit = np.linspace(3528,3580,100)"
   ]
  },
  {
   "cell_type": "code",
   "execution_count": 2,
   "metadata": {},
   "outputs": [],
   "source": [
    "def fitted_experiment(sample):\n",
    "    \n",
    "    experiment = np.genfromtxt('/Users/Sophia/ownCloud/PhD/Experiment_Analysis/CdSe/CdSe_CdS_XAFS_CdL3_2018.txt')\n",
    "    energy = experiment[:,0]\n",
    "    if sample == 'CdS_M311':\n",
    "        mu = experiment[:,(0,2)]\n",
    "    elif sample == 'CdS_bulk':\n",
    "        mu = experiment[:,(0,1)]\n",
    "    elif sample == 'CdS_M322':\n",
    "        mu = experiment[:,(0,3)]\n",
    "    return energy,mu\n",
    "\n"
   ]
  },
  {
   "cell_type": "code",
   "execution_count": 3,
   "metadata": {},
   "outputs": [],
   "source": [
    "def reference_experiment():\n",
    "    CdO_data = np.genfromtxt('/Users/Sophia/ownCloud/PhD/Experiment_Analysis/CdS_CdO_ref.nor')[:,(0,2)]\n",
    "    CdS_data = np.genfromtxt('/Users/Sophia/ownCloud/PhD/Experiment_Analysis/CdSe/CdSe_CdS_XAFS_CdL3_2018.txt')[:,(0,1)]\n",
    "    CdSe_data = np.genfromtxt('/Users/Sophia/ownCloud/PhD/Experiment_Analysis/CdSe/CdSe_CdS_XAFS_CdL3_2018.txt')[:,(0,5)]\n",
    "    return CdO_data,CdS_data,CdSe_data"
   ]
  },
  {
   "cell_type": "code",
   "execution_count": 4,
   "metadata": {},
   "outputs": [],
   "source": [
    "\n",
    "# ref1,ref2 here has to be global variable\n",
    "\n",
    "def model_xanes(x,e1,e2,a1,a2,b):\n",
    "    ref1 = interpolation(ref1,x+e1)\n",
    "    ref2 = interpolation(ref2,x+e2)\n",
    "    return a1*ref1+a2*ref2+b\n"
   ]
  },
  {
   "cell_type": "code",
   "execution_count": null,
   "metadata": {},
   "outputs": [],
   "source": [
    "def fit_xanes()\n",
    "    xdata = e_fit\n",
    "    energy, mu = fitted_experiment(sample)\n",
    "    ydata = interpolation(np.vstack([energy,mu]).transpose(),e_fit)\n",
    "    popt, pcov = curve_fit(model_xanes, xdata, ydata)"
   ]
  },
  {
   "cell_type": "code",
   "execution_count": null,
   "metadata": {},
   "outputs": [],
   "source": [
    "# define the reference \n",
    "CdO_data,CdS_data,CdSe_data = reference_experiment()\n",
    "ref1 = CdO_data\n",
    "ref2 = CdS_data"
   ]
  },
  {
   "cell_type": "code",
   "execution_count": 14,
   "metadata": {},
   "outputs": [
    {
     "data": {
      "text/plain": [
       "<Figure size 432x288 with 0 Axes>"
      ]
     },
     "metadata": {},
     "output_type": "display_data"
    },
    {
     "data": {
      "text/plain": [
       "interactive(children=(FloatSlider(value=1.0, description='a', max=2.0, step=0.05), FloatSlider(value=1.0, desc…"
      ]
     },
     "metadata": {},
     "output_type": "display_data"
    },
    {
     "data": {
      "text/plain": [
       "<function __main__.show_ratio(a, b, c1, c2, c3, t)>"
      ]
     },
     "execution_count": 14,
     "metadata": {},
     "output_type": "execute_result"
    }
   ],
   "source": [
    "plt.figure()\n",
    "# @interact(a=(0,1,0.01),b=(0,1,0.01),c1=(0.5,0.5,0.1),c2=(0.5,0.5,0.1))\n",
    "def show_ratio(a,b,c1,c2,c3,t):\n",
    "    energy,mu = fitted_XANES(e,sample=sample)\n",
    "    CdO,CdS = XANES_fit(e,sample,c1,c2)\n",
    "    plt.plot(energy*t+c1, a*CdO,label='CdO a={:f},c1={:f}'.format(a,c1))\n",
    "    plt.plot(energy+c2, b*CdS,label='CdS b={:f},c2={:f}'.format(b,c2))\n",
    "    plt.plot(energy, mu,'k.',markersize=0.5, label=sample)\n",
    "    plt.plot(energy, a*CdO+b*CdS+c3, label='fit_result')\n",
    "    plt.xlim(26680, 26760)\n",
    "    plt.ylim(0, 2)\n",
    "    plt.legend()\n",
    "    plt.show() \n",
    "    \n",
    "interact(show_ratio,a=(0,2,0.05),b=(0,2,0.05),c1=(-3,5,0.1),c2=(-3,5,0.1),c3=(-3,5,0.1),t=(0.9995,1,0.0001))\n",
    "\n",
    "\n",
    "\n"
   ]
  },
  {
   "cell_type": "code",
   "execution_count": null,
   "metadata": {},
   "outputs": [],
   "source": []
  }
 ],
 "metadata": {
  "kernelspec": {
   "display_name": "Python 3",
   "language": "python",
   "name": "python3"
  },
  "language_info": {
   "codemirror_mode": {
    "name": "ipython",
    "version": 3
   },
   "file_extension": ".py",
   "mimetype": "text/x-python",
   "name": "python",
   "nbconvert_exporter": "python",
   "pygments_lexer": "ipython3",
   "version": "3.7.3"
  }
 },
 "nbformat": 4,
 "nbformat_minor": 2
}
