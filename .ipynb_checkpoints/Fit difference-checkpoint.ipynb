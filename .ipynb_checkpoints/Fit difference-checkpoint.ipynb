{
 "cells": [
  {
   "cell_type": "markdown",
   "metadata": {},
   "source": [
    "## Fit difference\n",
    "1. chosen experiments were Reversed Fourier Transform from R = 0~4.55 $\\AA$ in each sample experiment.\n",
    "2. Fitting process was carried out using differential revolution method. And this fitting process was carried out for 5000 times to achieve the best result.\n",
    "3. the difference between 'experiemnt' $\\chi$ and Fit result will be plotted to compare among Regular sample, M311 and M322. \n",
    "4. The Fourier Transform of $\\chi$ difference will also be compared among samples."
   ]
  },
  {
   "cell_type": "markdown",
   "metadata": {},
   "source": [
    "### Package needed\n"
   ]
  },
  {
   "cell_type": "code",
   "execution_count": 4,
   "metadata": {},
   "outputs": [],
   "source": [
    "import numpy as np\n",
    "from matplotlib import pyplot as plt\n",
    "import glob\n",
    "from xafs.FT import *"
   ]
  },
  {
   "cell_type": "markdown",
   "metadata": {},
   "source": [
    "### import fit result "
   ]
  },
  {
   "cell_type": "code",
   "execution_count": 59,
   "metadata": {},
   "outputs": [
    {
     "name": "stdout",
     "output_type": "stream",
     "text": [
      "/Users/Sophia/ownCloud/PhD/Statistic Analysis/CdS/athena_M322_fit.dat\n",
      "/Users/Sophia/ownCloud/PhD/Statistic Analysis/CdS/athena_R_fit.dat\n",
      "/Users/Sophia/ownCloud/PhD/Statistic Analysis/CdS/athena_bulk_12sh_fit.dat\n",
      "/Users/Sophia/ownCloud/PhD/Statistic Analysis/CdS/athena_M311_fit.dat\n",
      "/Users/Sophia/ownCloud/PhD/Statistic Analysis/CdS/athena_bulk_fit.dat\n"
     ]
    }
   ],
   "source": [
    "data_path = '/Users/Sophia/ownCloud/PhD/Statistic Analysis/CdS/'\n",
    "figure_path = '/Users/Sophia/ownCloud/PhD/Statistic Analysis/CdS/figure/'\n",
    "filelist = glob.glob(data_path+'athena*_fit.dat')\n",
    "\n",
    "\n",
    "data_dic={}\n",
    "for file in filelist:\n",
    "    print(file)\n",
    "    data_dic[file[57:-8]]=np.genfromtxt(file)\n",
    "myorder = [1,3,0]\n",
    "filelist = [filelist[i] for i in myorder]"
   ]
  },
  {
   "cell_type": "markdown",
   "metadata": {},
   "source": [
    "### function: Plot chi difference and FT difference "
   ]
  },
  {
   "cell_type": "code",
   "execution_count": 80,
   "metadata": {},
   "outputs": [],
   "source": [
    "def plot_chi(file):\n",
    "    data = data_dic[file]\n",
    "    plt.plot(data[:,0],data[:,1]*data[:,0]**2,linewidth=1,label=file)\n",
    "    return data[:,0], data[:,1]*data[:,0]**2\n",
    "\n",
    "def plot_FT(file):\n",
    "    data = data_dic[file]\n",
    "    r,amp,real,imag = calcfft(data[:,0],data[:,1]*data[:,0]**3,kmin=2.3,kmax=15.5)\n",
    "    plt.plot(r,amp,linewidth = 1,label=file)\n",
    "    return r, amp"
   ]
  },
  {
   "cell_type": "code",
   "execution_count": null,
   "metadata": {},
   "outputs": [],
   "source": []
  },
  {
   "cell_type": "code",
   "execution_count": null,
   "metadata": {},
   "outputs": [],
   "source": []
  },
  {
   "cell_type": "code",
   "execution_count": null,
   "metadata": {},
   "outputs": [],
   "source": []
  },
  {
   "cell_type": "code",
   "execution_count": null,
   "metadata": {},
   "outputs": [],
   "source": []
  },
  {
   "cell_type": "code",
   "execution_count": null,
   "metadata": {},
   "outputs": [],
   "source": []
  },
  {
   "cell_type": "markdown",
   "metadata": {},
   "source": [
    "### Function: Plot"
   ]
  },
  {
   "cell_type": "code",
   "execution_count": 81,
   "metadata": {},
   "outputs": [],
   "source": [
    "def plot_fit_diff(file_list):\n",
    "    print(file_list)\n",
    "    plt.figure()\n",
    "    chi = {}\n",
    "    k = {}\n",
    "    plt.subplot(1,1,1)\n",
    "#     for file in filelist:\n",
    "#         k[file[57:-8]], chi[file[57:-8]] = plot_chi(file[57:-8])\n",
    "#     plt.plot(k[file[57:-8]], chi[file_list[0][57:-8]] - chi[file_list[1][57:-8]],linewidth = 1,label='difference between M311 and M322')\n",
    "#     plt.xlim([1,17])\n",
    "#     plt.ylim([-0.2,0.2])\n",
    "#     plt.xlabel('k ($\\AA$)',fontsize = 16)\n",
    "#     plt.ylabel('$k^2\\chi(k)$',fontsize = 16)\n",
    "#     plt.xticks(fontsize = 16)\n",
    "#     plt.yticks(fontsize = 16)\n",
    "#     plt.legend(loc='upper right')\n",
    "    \n",
    "#     plt.subplot(2,1,2)\n",
    "\n",
    "    r = {}\n",
    "    amp = {}\n",
    "    for file in filelist:\n",
    "        r[file[57:-8]], amp[file[57:-8]] = plot_FT(file[57:-8])\n",
    "    \n",
    "    plt.xlim([0,6])\n",
    "    plt.xlabel('Radial distance ($\\AA$)',fontsize = 16)\n",
    "    plt.xticks(fontsize = 16)\n",
    "    plt.yticks([],fontsize = 16)\n",
    "    plt.legend(loc='upper right')\n",
    "    plt.tight_layout()\n",
    "    \n",
    "        "
   ]
  },
  {
   "cell_type": "code",
   "execution_count": 82,
   "metadata": {},
   "outputs": [
    {
     "name": "stdout",
     "output_type": "stream",
     "text": [
      "['/Users/Sophia/ownCloud/PhD/Statistic Analysis/CdS/athena_R_fit.dat', '/Users/Sophia/ownCloud/PhD/Statistic Analysis/CdS/athena_M311_fit.dat', '/Users/Sophia/ownCloud/PhD/Statistic Analysis/CdS/athena_M322_fit.dat']\n"
     ]
    },
    {
     "data": {
      "image/png": "[encoded data removed]",
      "text/plain": [
       "<Figure size 432x288 with 1 Axes>"
      ]
     },
     "metadata": {
      "needs_background": "light"
     },
     "output_type": "display_data"
    }
   ],
   "source": [
    "plot_fit_diff(filelist)\n",
    "plt.savefig(figure_path+'fit_difference.pdf',format='pdf')"
   ]
  },
  {
   "cell_type": "code",
   "execution_count": null,
   "metadata": {},
   "outputs": [],
   "source": []
  },
  {
   "cell_type": "code",
   "execution_count": null,
   "metadata": {},
   "outputs": [],
   "source": []
  }
 ],
 "metadata": {
  "kernelspec": {
   "display_name": "Python 3",
   "language": "python",
   "name": "python3"
  },
  "language_info": {
   "codemirror_mode": {
    "name": "ipython",
    "version": 3
   },
   "file_extension": ".py",
   "mimetype": "text/x-python",
   "name": "python",
   "nbconvert_exporter": "python",
   "pygments_lexer": "ipython3",
   "version": "3.6.10"
  }
 },
 "nbformat": 4,
 "nbformat_minor": 2
}
